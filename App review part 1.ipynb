{
 "cells": [
  {
   "cell_type": "code",
   "execution_count": 3,
   "id": "bd81ca5e",
   "metadata": {
    "metadata": {}
   },
   "outputs": [],
   "source": [
    "# Importing the libraries\n",
    "import pandas as pd\n",
    "import spacy\n",
    "import re\n",
    "from nltk.tokenize import sent_tokenize, word_tokenize\n",
    "from spacy.lang.en.stop_words import STOP_WORDS\n",
    "from sklearn.feature_extraction.text import TfidfVectorizer\n",
    "from sklearn.linear_model import Ridge, Lasso, LinearRegression\n",
    "from sklearn.ensemble import RandomForestRegressor, GradientBoostingRegressor\n",
    "from sklearn.model_selection import GridSearchCV, train_test_split\n",
    "from sklearn.metrics import mean_squared_error, mean_absolute_error\n",
    "import numpy as np\n",
    "import matplotlib.pyplot as plt\n",
    "import seaborn as sns\n",
    "import nltk"
   ]
  },
  {
   "cell_type": "code",
   "execution_count": 4,
   "id": "50d86267",
   "metadata": {
    "metadata": {}
   },
   "outputs": [
    {
     "data": {
      "text/html": [
       "<div>\n",
       "<style scoped>\n",
       "    .dataframe tbody tr th:only-of-type {\n",
       "        vertical-align: middle;\n",
       "    }\n",
       "\n",
       "    .dataframe tbody tr th {\n",
       "        vertical-align: top;\n",
       "    }\n",
       "\n",
       "    .dataframe thead th {\n",
       "        text-align: right;\n",
       "    }\n",
       "</style>\n",
       "<table border=\"1\" class=\"dataframe\">\n",
       "  <thead>\n",
       "    <tr style=\"text-align: right;\">\n",
       "      <th></th>\n",
       "      <th>review_description</th>\n",
       "      <th>rating</th>\n",
       "      <th>review_date</th>\n",
       "    </tr>\n",
       "  </thead>\n",
       "  <tbody>\n",
       "    <tr>\n",
       "      <th>0</th>\n",
       "      <td>The app is good for connecting with friends, f...</td>\n",
       "      <td>3</td>\n",
       "      <td>2023-07-11 23:57:07</td>\n",
       "    </tr>\n",
       "    <tr>\n",
       "      <th>1</th>\n",
       "      <td>Used to be my favorite social media app, but \"...</td>\n",
       "      <td>2</td>\n",
       "      <td>2023-07-22 21:37:09</td>\n",
       "    </tr>\n",
       "    <tr>\n",
       "      <th>2</th>\n",
       "      <td>Instagram is the best of all the social media....</td>\n",
       "      <td>5</td>\n",
       "      <td>2023-07-25 03:24:58</td>\n",
       "    </tr>\n",
       "    <tr>\n",
       "      <th>3</th>\n",
       "      <td>I love this app.. but as of late, I have been ...</td>\n",
       "      <td>2</td>\n",
       "      <td>2023-07-09 04:49:57</td>\n",
       "    </tr>\n",
       "    <tr>\n",
       "      <th>4</th>\n",
       "      <td>Used to be a great app but there are so many m...</td>\n",
       "      <td>3</td>\n",
       "      <td>2023-07-17 16:47:04</td>\n",
       "    </tr>\n",
       "  </tbody>\n",
       "</table>\n",
       "</div>"
      ],
      "text/plain": [
       "                                  review_description  rating  \\\n",
       "0  The app is good for connecting with friends, f...       3   \n",
       "1  Used to be my favorite social media app, but \"...       2   \n",
       "2  Instagram is the best of all the social media....       5   \n",
       "3  I love this app.. but as of late, I have been ...       2   \n",
       "4  Used to be a great app but there are so many m...       3   \n",
       "\n",
       "           review_date  \n",
       "0  2023-07-11 23:57:07  \n",
       "1  2023-07-22 21:37:09  \n",
       "2  2023-07-25 03:24:58  \n",
       "3  2023-07-09 04:49:57  \n",
       "4  2023-07-17 16:47:04  "
      ]
     },
     "execution_count": 4,
     "metadata": {},
     "output_type": "execute_result"
    }
   ],
   "source": [
    "# Load the dataset\n",
    "\n",
    "data = pd.read_csv(r\"C:\\Users\\nuzha\\Downloads\\archive (5)\\instagram.csv\")\n",
    "df = data.iloc[:1000]\n",
    "df.head()"
   ]
  },
  {
   "cell_type": "code",
   "execution_count": null,
   "id": "c1aa3aca",
   "metadata": {},
   "outputs": [],
   "source": []
  },
  {
   "cell_type": "code",
   "execution_count": 5,
   "id": "f3aa493a",
   "metadata": {
    "metadata": {}
   },
   "outputs": [
    {
     "name": "stdout",
     "output_type": "stream",
     "text": [
      "<class 'pandas.core.frame.DataFrame'>\n",
      "RangeIndex: 1000 entries, 0 to 999\n",
      "Data columns (total 3 columns):\n",
      " #   Column              Non-Null Count  Dtype \n",
      "---  ------              --------------  ----- \n",
      " 0   review_description  1000 non-null   object\n",
      " 1   rating              1000 non-null   int64 \n",
      " 2   review_date         1000 non-null   object\n",
      "dtypes: int64(1), object(2)\n",
      "memory usage: 23.6+ KB\n"
     ]
    }
   ],
   "source": [
    "df.info()\n"
   ]
  },
  {
   "cell_type": "markdown",
   "id": "94e0286d",
   "metadata": {},
   "source": [
    "## Cleaning the texts "
   ]
  },
  {
   "cell_type": "code",
   "execution_count": 6,
   "id": "78deecba",
   "metadata": {
    "metadata": {}
   },
   "outputs": [
    {
     "name": "stderr",
     "output_type": "stream",
     "text": [
      "C:\\Users\\nuzha\\AppData\\Local\\Temp\\ipykernel_31572\\2511888699.py:43: SettingWithCopyWarning: \n",
      "A value is trying to be set on a copy of a slice from a DataFrame.\n",
      "Try using .loc[row_indexer,col_indexer] = value instead\n",
      "\n",
      "See the caveats in the documentation: https://pandas.pydata.org/pandas-docs/stable/user_guide/indexing.html#returning-a-view-versus-a-copy\n",
      "  df['clean_review'] = df['review_description'].apply(process_text)\n",
      "C:\\Users\\nuzha\\AppData\\Local\\Temp\\ipykernel_31572\\2511888699.py:44: SettingWithCopyWarning: \n",
      "A value is trying to be set on a copy of a slice from a DataFrame.\n",
      "Try using .loc[row_indexer,col_indexer] = value instead\n",
      "\n",
      "See the caveats in the documentation: https://pandas.pydata.org/pandas-docs/stable/user_guide/indexing.html#returning-a-view-versus-a-copy\n",
      "  df['word_count_clean'] = df['clean_review'].apply(count_word)\n",
      "C:\\Users\\nuzha\\AppData\\Local\\Temp\\ipykernel_31572\\2511888699.py:46: SettingWithCopyWarning: \n",
      "A value is trying to be set on a copy of a slice from a DataFrame.\n",
      "Try using .loc[row_indexer,col_indexer] = value instead\n",
      "\n",
      "See the caveats in the documentation: https://pandas.pydata.org/pandas-docs/stable/user_guide/indexing.html#returning-a-view-versus-a-copy\n",
      "  df['clean_review'] = df['clean_review'].apply(lambda x: ' '.join(x))\n"
     ]
    },
    {
     "data": {
      "text/html": [
       "<div>\n",
       "<style scoped>\n",
       "    .dataframe tbody tr th:only-of-type {\n",
       "        vertical-align: middle;\n",
       "    }\n",
       "\n",
       "    .dataframe tbody tr th {\n",
       "        vertical-align: top;\n",
       "    }\n",
       "\n",
       "    .dataframe thead th {\n",
       "        text-align: right;\n",
       "    }\n",
       "</style>\n",
       "<table border=\"1\" class=\"dataframe\">\n",
       "  <thead>\n",
       "    <tr style=\"text-align: right;\">\n",
       "      <th></th>\n",
       "      <th>review_description</th>\n",
       "      <th>rating</th>\n",
       "      <th>review_date</th>\n",
       "      <th>clean_review</th>\n",
       "      <th>word_count_clean</th>\n",
       "    </tr>\n",
       "  </thead>\n",
       "  <tbody>\n",
       "    <tr>\n",
       "      <th>227</th>\n",
       "      <td>Instagram's usability is continuously degradin...</td>\n",
       "      <td>1</td>\n",
       "      <td>2023-05-27 19:59:41</td>\n",
       "      <td>instagram usability continuously degrading . I...</td>\n",
       "      <td>47</td>\n",
       "    </tr>\n",
       "    <tr>\n",
       "      <th>801</th>\n",
       "      <td>My feed is cluttered with irrelevant ads and s...</td>\n",
       "      <td>1</td>\n",
       "      <td>2023-06-06 19:58:10</td>\n",
       "      <td>feed cluttered irrelevant ad suggest post I m ...</td>\n",
       "      <td>52</td>\n",
       "    </tr>\n",
       "    <tr>\n",
       "      <th>986</th>\n",
       "      <td>This apps format has just gotten worse and wor...</td>\n",
       "      <td>2</td>\n",
       "      <td>2023-06-18 15:04:33</td>\n",
       "      <td>app format bad bad past 2 month . I immediatel...</td>\n",
       "      <td>44</td>\n",
       "    </tr>\n",
       "    <tr>\n",
       "      <th>328</th>\n",
       "      <td>From the past few days, I'm trying to change t...</td>\n",
       "      <td>2</td>\n",
       "      <td>2023-07-09 03:10:41</td>\n",
       "      <td>past day I m try change filter specific chat f...</td>\n",
       "      <td>36</td>\n",
       "    </tr>\n",
       "    <tr>\n",
       "      <th>132</th>\n",
       "      <td>App has two bugs but not sure if one is a bug ...</td>\n",
       "      <td>1</td>\n",
       "      <td>2023-05-13 03:04:01</td>\n",
       "      <td>app bug sure bug new restriction . bug post mu...</td>\n",
       "      <td>29</td>\n",
       "    </tr>\n",
       "    <tr>\n",
       "      <th>57</th>\n",
       "      <td>In the edit, it be nice to have a borderline f...</td>\n",
       "      <td>3</td>\n",
       "      <td>2023-07-04 22:31:38</td>\n",
       "      <td>edit nice borderline frame 🖼 ️ picture straigh...</td>\n",
       "      <td>30</td>\n",
       "    </tr>\n",
       "    <tr>\n",
       "      <th>246</th>\n",
       "      <td>The app is full of bugs it's tiring, themes no...</td>\n",
       "      <td>1</td>\n",
       "      <td>2023-07-11 17:52:59</td>\n",
       "      <td>app bug tire theme account late update second ...</td>\n",
       "      <td>29</td>\n",
       "    </tr>\n",
       "    <tr>\n",
       "      <th>619</th>\n",
       "      <td>It's Buggy. 1. Themes aren't showing properly ...</td>\n",
       "      <td>2</td>\n",
       "      <td>2023-07-07 17:48:11</td>\n",
       "      <td>buggy . 1 . theme properly 2 . message send 3 ...</td>\n",
       "      <td>41</td>\n",
       "    </tr>\n",
       "    <tr>\n",
       "      <th>913</th>\n",
       "      <td>Instagram has been glichy for a long time, but...</td>\n",
       "      <td>2</td>\n",
       "      <td>2023-07-15 04:56:15</td>\n",
       "      <td>instagram glichy long time new glitch infuriat...</td>\n",
       "      <td>52</td>\n",
       "    </tr>\n",
       "    <tr>\n",
       "      <th>547</th>\n",
       "      <td>The app keeps crashing all the time from past ...</td>\n",
       "      <td>1</td>\n",
       "      <td>2023-07-09 03:22:12</td>\n",
       "      <td>app crash time past 3 day . I account . I use ...</td>\n",
       "      <td>30</td>\n",
       "    </tr>\n",
       "  </tbody>\n",
       "</table>\n",
       "</div>"
      ],
      "text/plain": [
       "                                    review_description  rating  \\\n",
       "227  Instagram's usability is continuously degradin...       1   \n",
       "801  My feed is cluttered with irrelevant ads and s...       1   \n",
       "986  This apps format has just gotten worse and wor...       2   \n",
       "328  From the past few days, I'm trying to change t...       2   \n",
       "132  App has two bugs but not sure if one is a bug ...       1   \n",
       "57   In the edit, it be nice to have a borderline f...       3   \n",
       "246  The app is full of bugs it's tiring, themes no...       1   \n",
       "619  It's Buggy. 1. Themes aren't showing properly ...       2   \n",
       "913  Instagram has been glichy for a long time, but...       2   \n",
       "547  The app keeps crashing all the time from past ...       1   \n",
       "\n",
       "             review_date                                       clean_review  \\\n",
       "227  2023-05-27 19:59:41  instagram usability continuously degrading . I...   \n",
       "801  2023-06-06 19:58:10  feed cluttered irrelevant ad suggest post I m ...   \n",
       "986  2023-06-18 15:04:33  app format bad bad past 2 month . I immediatel...   \n",
       "328  2023-07-09 03:10:41  past day I m try change filter specific chat f...   \n",
       "132  2023-05-13 03:04:01  app bug sure bug new restriction . bug post mu...   \n",
       "57   2023-07-04 22:31:38  edit nice borderline frame 🖼 ️ picture straigh...   \n",
       "246  2023-07-11 17:52:59  app bug tire theme account late update second ...   \n",
       "619  2023-07-07 17:48:11  buggy . 1 . theme properly 2 . message send 3 ...   \n",
       "913  2023-07-15 04:56:15  instagram glichy long time new glitch infuriat...   \n",
       "547  2023-07-09 03:22:12  app crash time past 3 day . I account . I use ...   \n",
       "\n",
       "     word_count_clean  \n",
       "227                47  \n",
       "801                52  \n",
       "986                44  \n",
       "328                36  \n",
       "132                29  \n",
       "57                 30  \n",
       "246                29  \n",
       "619                41  \n",
       "913                52  \n",
       "547                30  "
      ]
     },
     "execution_count": 6,
     "metadata": {},
     "output_type": "execute_result"
    }
   ],
   "source": [
    "\n",
    "\n",
    "# Load spaCy English model\n",
    "nlp = spacy.load('en_core_web_sm')\n",
    "\n",
    "# Define text cleaning functions\n",
    "\n",
    "def clean_text(text):\n",
    "    \"\"\"Clean the text by removing citations, extra whitespaces, and converting to lowercase.\"\"\"\n",
    "    text = re.sub(r'\\[\\d+\\]', '', text)  # Remove citations\n",
    "    text = re.sub(r'\\s+', ' ', text).strip()  # Remove extra whitespaces and strip\n",
    "    return text.lower()\n",
    "\n",
    "def remove_punctuation(text):\n",
    "    \"\"\"Remove punctuation from the text.\"\"\"\n",
    "    PUNCT_TO_REMOVE = \"\"\"!\"'()*+,-/:;<=>?[\\]_`{|}~@#$^%&\\n\\t\"\"\"\n",
    "    return text.translate(str.maketrans('', '', PUNCT_TO_REMOVE))\n",
    "\n",
    "def lemmatize_and_filter(text):\n",
    "    \"\"\"Lemmatize and filter out non-English words using spaCy.\"\"\"\n",
    "    doc = nlp(text)\n",
    "    return ' '.join([token.lemma_ for token in doc if token.lang_ == 'en'])\n",
    "\n",
    "def nltk_clean_and_tokenize(text):\n",
    "    \"\"\"Tokenize the text and clean it further.\"\"\"\n",
    "    sentences = sent_tokenize(text)\n",
    "    return [' '.join(word_tokenize(sent)) for sent in sentences]\n",
    "\n",
    "def process_text(review):\n",
    "    \"\"\"Process the text through all cleaning steps and calculate word count.\"\"\"\n",
    "    clean_rv = clean_text(review)\n",
    "    clean_rv = remove_punctuation(clean_rv)\n",
    "    clean_rv = lemmatize_and_filter(clean_rv)\n",
    "    clean_rv = ' '.join([word for word in clean_rv.split() if word not in STOP_WORDS])\n",
    "    cleaned_review = nltk_clean_and_tokenize(clean_rv)\n",
    "    return cleaned_review\n",
    "\n",
    "def count_word(review):\n",
    "    \"\"\"Count the number of words in the review.\"\"\"\n",
    "    return sum(len(word_tokenize(sentence)) for sentence in review)\n",
    "\n",
    "# Apply the text processing and word count functions\n",
    "\n",
    "\n",
    "df['clean_review'] = df['review_description'].apply(process_text)\n",
    "df['word_count_clean'] = df['clean_review'].apply(count_word)\n",
    "\n",
    "df['clean_review'] = df['clean_review'].apply(lambda x: ' '.join(x))\n",
    "\n",
    "\n",
    "df.sample(10)\n"
   ]
  },
  {
   "cell_type": "markdown",
   "id": "78b636ce",
   "metadata": {},
   "source": [
    "# Predicting App Review Ratings"
   ]
  },
  {
   "cell_type": "markdown",
   "id": "f9b1d610",
   "metadata": {},
   "source": [
    "### Feature Engineering"
   ]
  },
  {
   "cell_type": "code",
   "execution_count": 7,
   "id": "0b8d1071",
   "metadata": {
    "metadata": {}
   },
   "outputs": [],
   "source": [
    "\n",
    "tfidf_vector = TfidfVectorizer()\n",
    "X_tfidf = tfidf_vector.fit_transform(df['clean_review'])"
   ]
  },
  {
   "cell_type": "markdown",
   "id": "3884b917",
   "metadata": {},
   "source": [
    "### Model Development"
   ]
  },
  {
   "cell_type": "code",
   "execution_count": 8,
   "id": "9231a54b",
   "metadata": {
    "metadata": {}
   },
   "outputs": [],
   "source": [
    "from sklearn.linear_model import LinearRegression\n",
    "from sklearn.model_selection import train_test_split\n",
    "from sklearn.metrics import mean_squared_error,mean_absolute_error\n",
    "import numpy as np\n",
    "\n",
    "from sklearn.linear_model import LinearRegression, Ridge, Lasso\n",
    "from sklearn.ensemble import RandomForestRegressor, GradientBoostingRegressor\n",
    "from sklearn.model_selection import GridSearchCV\n",
    "import matplotlib.pyplot as plt\n",
    "import seaborn as sns\n",
    "from sklearn.feature_extraction.text import TfidfVectorizer\n",
    "from sklearn.linear_model import Ridge, Lasso\n",
    "from sklearn.ensemble import RandomForestRegressor, GradientBoostingRegressor\n",
    "from sklearn.model_selection import GridSearchCV\n",
    "from sklearn.metrics import mean_squared_error, mean_absolute_error\n",
    "import numpy as np"
   ]
  },
  {
   "cell_type": "code",
   "execution_count": 9,
   "id": "930a1ce4",
   "metadata": {
    "metadata": {}
   },
   "outputs": [
    {
     "name": "stdout",
     "output_type": "stream",
     "text": [
      "Ridge Regression - Best Parameters: {'alpha': 1.0}\n",
      "Ridge Regression - Best Score (neg MSE): 0.9496261622941002\n",
      "Ridge Regression - RMSE: 0.9746168816608213, MAE: 0.7938201712974566\n",
      "-------------------------------------------------\n",
      "Lasso Regression - Best Parameters: {'alpha': 0.1}\n",
      "Lasso Regression - Best Score (neg MSE): 1.2200634765625\n",
      "Lasso Regression - RMSE: 1.06948585778401, MAE: 0.8933\n",
      "-------------------------------------------------\n",
      "Random Forest - Best Parameters: {'max_depth': 20, 'n_estimators': 200}\n",
      "Random Forest - Best Score (neg MSE): 1.0152787315787295\n",
      "Random Forest - RMSE: 1.0219022931978285, MAE: 0.8210668443490536\n",
      "-------------------------------------------------\n",
      "Gradient Boosting - Best Parameters: {'learning_rate': 0.1, 'max_depth': 3, 'n_estimators': 100}\n",
      "Gradient Boosting - Best Score (neg MSE): 1.0178587900819565\n",
      "Gradient Boosting - RMSE: 1.0098423203127733, MAE: 0.8294620248699929\n",
      "-------------------------------------------------\n"
     ]
    }
   ],
   "source": [
    "\n",
    "\n",
    "# Defining the  parameter grids for each model\n",
    "param_grid_ridge = {\n",
    "    'alpha': [0.1, 1.0, 10.0, 100.0]\n",
    "}\n",
    "\n",
    "param_grid_lasso = {\n",
    "    'alpha': [0.1, 1.0, 10.0, 100.0]\n",
    "}\n",
    "\n",
    "param_grid_rf = {\n",
    "    'n_estimators': [50, 100, 200],\n",
    "    'max_depth': [None, 10, 20, 30]\n",
    "}\n",
    "\n",
    "param_grid_gb = {\n",
    "    'n_estimators': [50, 100, 200],\n",
    "    'learning_rate': [0.01, 0.1, 0.2],\n",
    "    'max_depth': [3, 5, 7]\n",
    "}\n",
    "\n",
    "# Define models\n",
    "models = {\n",
    "    'Ridge Regression': (Ridge(), param_grid_ridge),\n",
    "    'Lasso Regression': (Lasso(), param_grid_lasso),\n",
    "    'Random Forest': (RandomForestRegressor(random_state=42), param_grid_rf),\n",
    "    'Gradient Boosting': (GradientBoostingRegressor(random_state=42), param_grid_gb)\n",
    "}\n",
    "\n",
    "# Function to perform grid search and evaluate model\n",
    "def perform_grid_search(model, param_grid, X_train, y_train, X_test, y_test, model_name):\n",
    "    grid_search = GridSearchCV(estimator=model, param_grid=param_grid, cv=5, scoring='neg_mean_squared_error')\n",
    "    grid_search.fit(X_train, y_train)\n",
    "    \n",
    "    best_model = grid_search.best_estimator_\n",
    "    y_pred = best_model.predict(X_test)\n",
    "    \n",
    "    rmse = np.sqrt(mean_squared_error(y_test, y_pred))\n",
    "    mae = mean_absolute_error(y_test, y_pred)\n",
    "    \n",
    "    print(f\"{model_name} - Best Parameters: {grid_search.best_params_}\")\n",
    "    print(f\"{model_name} - Best Score (neg MSE): {-grid_search.best_score_}\")\n",
    "    print(f\"{model_name} - RMSE: {rmse}, MAE: {mae}\")\n",
    "    print(\"-------------------------------------------------\")\n",
    "    \n",
    "    return best_model\n",
    "\n",
    "# Splitinging data into training and test sets\n",
    "from sklearn.model_selection import train_test_split\n",
    "\n",
    "X_train, X_test, y_train, y_test = train_test_split(X_tfidf, df['rating'], test_size=0.2, random_state=42)\n",
    "\n",
    "# Perform grid search for each model\n",
    "best_models = {}\n",
    "for model_name, (model, param_grid) in models.items():\n",
    "    best_model = perform_grid_search(model, param_grid, X_train, y_train, X_test, y_test, model_name)\n",
    "    best_models[model_name] = best_model\n"
   ]
  },
  {
   "cell_type": "markdown",
   "id": "ce12a2b8",
   "metadata": {},
   "source": [
    "**Ridge Regression outperforms the other models with the lowest RMSE and MAE, suggesting it is the most accurate for  data.**"
   ]
  },
  {
   "cell_type": "markdown",
   "id": "b8693d46",
   "metadata": {},
   "source": [
    "# Anomaly Detection in Ratings"
   ]
  },
  {
   "cell_type": "code",
   "execution_count": 12,
   "id": "1dfbc4f7",
   "metadata": {
    "metadata": {}
   },
   "outputs": [
    {
     "name": "stdout",
     "output_type": "stream",
     "text": [
      "Best Parameters: {'alpha': 1.0}\n",
      "Best Score: 0.9496261622941002\n",
      "<class 'pandas.core.frame.DataFrame'>\n",
      "Index: 125 entries, 2 to 995\n",
      "Data columns (total 8 columns):\n",
      " #   Column              Non-Null Count  Dtype  \n",
      "---  ------              --------------  -----  \n",
      " 0   review_description  125 non-null    object \n",
      " 1   rating              125 non-null    int64  \n",
      " 2   review_date         125 non-null    object \n",
      " 3   clean_review        125 non-null    object \n",
      " 4   word_count_clean    125 non-null    int64  \n",
      " 5   predicted_rating    125 non-null    float64\n",
      " 6   rating_difference   125 non-null    float64\n",
      " 7   anomaly             125 non-null    bool   \n",
      "dtypes: bool(1), float64(2), int64(2), object(3)\n",
      "memory usage: 7.9+ KB\n"
     ]
    },
    {
     "name": "stderr",
     "output_type": "stream",
     "text": [
      "C:\\Users\\nuzha\\AppData\\Local\\Temp\\ipykernel_31572\\878858759.py:16: SettingWithCopyWarning: \n",
      "A value is trying to be set on a copy of a slice from a DataFrame.\n",
      "Try using .loc[row_indexer,col_indexer] = value instead\n",
      "\n",
      "See the caveats in the documentation: https://pandas.pydata.org/pandas-docs/stable/user_guide/indexing.html#returning-a-view-versus-a-copy\n",
      "  df['predicted_rating'] = best_ridge_model.predict(X_tfidf)\n",
      "C:\\Users\\nuzha\\AppData\\Local\\Temp\\ipykernel_31572\\878858759.py:18: SettingWithCopyWarning: \n",
      "A value is trying to be set on a copy of a slice from a DataFrame.\n",
      "Try using .loc[row_indexer,col_indexer] = value instead\n",
      "\n",
      "See the caveats in the documentation: https://pandas.pydata.org/pandas-docs/stable/user_guide/indexing.html#returning-a-view-versus-a-copy\n",
      "  df['rating_difference'] = np.abs(df['rating'] - df['predicted_rating'])\n",
      "C:\\Users\\nuzha\\AppData\\Local\\Temp\\ipykernel_31572\\878858759.py:22: SettingWithCopyWarning: \n",
      "A value is trying to be set on a copy of a slice from a DataFrame.\n",
      "Try using .loc[row_indexer,col_indexer] = value instead\n",
      "\n",
      "See the caveats in the documentation: https://pandas.pydata.org/pandas-docs/stable/user_guide/indexing.html#returning-a-view-versus-a-copy\n",
      "  df['anomaly'] = df['rating_difference'] > threshold\n"
     ]
    }
   ],
   "source": [
    "param_grid = {\n",
    "    'alpha': [0.1, 1.0, 10.0, 100.0]\n",
    "}\n",
    "\n",
    "ridge = Ridge()\n",
    "\n",
    "grid_search = GridSearchCV(estimator=ridge, param_grid=param_grid, cv=5, scoring='neg_mean_squared_error')\n",
    "\n",
    "grid_search.fit(X_train, y_train)\n",
    "\n",
    "print(f\"Best Parameters: {grid_search.best_params_}\")\n",
    "print(f\"Best Score: {-grid_search.best_score_}\")\n",
    "\n",
    "best_ridge_model = grid_search.best_estimator_\n",
    "y_pred_best_ridge = best_ridge_model.predict(X_test)\n",
    "df['predicted_rating'] = best_ridge_model.predict(X_tfidf)\n",
    "\n",
    "df['rating_difference'] = np.abs(df['rating'] - df['predicted_rating'])\n",
    "\n",
    "threshold = 1\n",
    "\n",
    "df['anomaly'] = df['rating_difference'] > threshold\n",
    "\n",
    "anomalies = df[df['anomaly']]\n",
    "anomalies.info()"
   ]
  },
  {
   "cell_type": "markdown",
   "id": "720a9061",
   "metadata": {},
   "source": [
    "### Highlighting Anomalies"
   ]
  },
  {
   "cell_type": "code",
   "execution_count": 13,
   "id": "7724e9c8",
   "metadata": {
    "metadata": {}
   },
   "outputs": [
    {
     "data": {
      "image/png": "[encoded data removed]",
      "text/plain": [
       "<Figure size 1000x600 with 1 Axes>"
      ]
     },
     "metadata": {},
     "output_type": "display_data"
    }
   ],
   "source": [
    "plt.figure(figsize=(10, 6))\n",
    "plt.scatter(df['rating'], df['predicted_rating'], c='blue', label='Normal')\n",
    "plt.scatter(anomalies['rating'], anomalies['predicted_rating'], c='red', label='Anomaly')\n",
    "plt.xlabel('Actual Rating')\n",
    "plt.ylabel('Predicted Rating')\n",
    "plt.title('Actual vs Predicted Ratings')\n",
    "plt.legend()\n",
    "plt.show()\n",
    "\n"
   ]
  },
  {
   "cell_type": "code",
   "execution_count": null,
   "id": "b0cfccec",
   "metadata": {},
   "outputs": [],
   "source": [
    "def export_data_to_excel(df, file_path):\n",
    "     \"\"\"Export the DataFrame to an Excel file.\"\"\"\n",
    "     with pd.ExcelWriter(file_path, engine='xlsxwriter') as writer:\n",
    "         df.to_excel(writer, index=False)\n",
    "\n",
    "# Dataset exporting \n",
    "\n",
    "export_data_to_excel(df, 'review_processed_data.xlsx')"
   ]
  },
  {
   "cell_type": "markdown",
   "id": "282a1f8d",
   "metadata": {},
   "source": []
  },
  {
   "cell_type": "markdown",
   "id": "b7851f0c",
   "metadata": {},
   "source": []
  }
 ],
 "metadata": {
  "kernelspec": {
   "display_name": "Python 3",
   "language": "python",
   "name": "python3"
  },
  "language_info": {
   "codemirror_mode": {
    "name": "ipython",
    "version": 3
   },
   "file_extension": ".py",
   "mimetype": "text/x-python",
   "name": "python",
   "nbconvert_exporter": "python",
   "pygments_lexer": "ipython3",
   "version": "3.11.9"
  }
 },
 "nbformat": 4,
 "nbformat_minor": 5
}
